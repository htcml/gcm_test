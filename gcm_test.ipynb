{
 "cells": [
  {
   "cell_type": "code",
   "execution_count": 7,
   "metadata": {},
   "outputs": [],
   "source": [
    "import numpy as np\n",
    "import pandas as pd\n",
    "import networkx as nx\n",
    "from dowhy import gcm\n",
    "import matplotlib.pyplot as plt \n",
    "%matplotlib inline"
   ]
  },
  {
   "cell_type": "code",
   "execution_count": null,
   "metadata": {},
   "outputs": [],
   "source": [
    "def bar_plot(median_attribs, \n",
    "             ylabel='Attribution Score', \n",
    "             figsize=(10, 3), \n",
    "             bwidth=0.8, \n",
    "             ylim=None,\n",
    "             xticks=None, \n",
    "             xticks_rotation=90):\n",
    "    fig, ax = plt.subplots(figsize=figsize)\n",
    "    plt.bar(median_attribs.keys(), median_attribs.values(), ecolor='#1E88E5', color='#ff0d57', width=bwidth)\n",
    "    plt.xticks(rotation=xticks_rotation)\n",
    "    plt.ylabel(ylabel)\n",
    "    ax.spines['right'].set_visible(False)\n",
    "    ax.spines['top'].set_visible(False)\n",
    "    if ylim:\n",
    "        plt.ylim(ylim)\n",
    "    if xticks:\n",
    "        plt.xticks(list(median_attribs.keys()), xticks)\n",
    "    plt.show()"
   ]
  },
  {
   "cell_type": "code",
   "execution_count": 9,
   "metadata": {},
   "outputs": [],
   "source": [
    "baseline = pd.read_csv('baseline.csv')\n",
    "x = pd.read_csv('x_change.csv') # add change to X\n",
    "xy = pd.read_csv('xy_change.csv') # add additional change to Y"
   ]
  },
  {
   "cell_type": "code",
   "execution_count": 14,
   "metadata": {},
   "outputs": [
    {
     "data": {
      "text/html": [
       "<div>\n",
       "<style scoped>\n",
       "    .dataframe tbody tr th:only-of-type {\n",
       "        vertical-align: middle;\n",
       "    }\n",
       "\n",
       "    .dataframe tbody tr th {\n",
       "        vertical-align: top;\n",
       "    }\n",
       "\n",
       "    .dataframe thead th {\n",
       "        text-align: right;\n",
       "    }\n",
       "</style>\n",
       "<table border=\"1\" class=\"dataframe\">\n",
       "  <thead>\n",
       "    <tr style=\"text-align: right;\">\n",
       "      <th></th>\n",
       "      <th>X</th>\n",
       "      <th>Y</th>\n",
       "      <th>Z</th>\n",
       "    </tr>\n",
       "  </thead>\n",
       "  <tbody>\n",
       "    <tr>\n",
       "      <th>0</th>\n",
       "      <td>0.667947</td>\n",
       "      <td>0.825318</td>\n",
       "      <td>0.009451</td>\n",
       "    </tr>\n",
       "    <tr>\n",
       "      <th>1</th>\n",
       "      <td>0.689526</td>\n",
       "      <td>0.802544</td>\n",
       "      <td>0.003466</td>\n",
       "    </tr>\n",
       "    <tr>\n",
       "      <th>2</th>\n",
       "      <td>0.792114</td>\n",
       "      <td>0.860689</td>\n",
       "      <td>0.004349</td>\n",
       "    </tr>\n",
       "    <tr>\n",
       "      <th>3</th>\n",
       "      <td>0.689796</td>\n",
       "      <td>0.832464</td>\n",
       "      <td>0.005986</td>\n",
       "    </tr>\n",
       "    <tr>\n",
       "      <th>4</th>\n",
       "      <td>0.620337</td>\n",
       "      <td>0.798170</td>\n",
       "      <td>0.008576</td>\n",
       "    </tr>\n",
       "  </tbody>\n",
       "</table>\n",
       "</div>"
      ],
      "text/plain": [
       "          X         Y         Z\n",
       "0  0.667947  0.825318  0.009451\n",
       "1  0.689526  0.802544  0.003466\n",
       "2  0.792114  0.860689  0.004349\n",
       "3  0.689796  0.832464  0.005986\n",
       "4  0.620337  0.798170  0.008576"
      ]
     },
     "execution_count": 14,
     "metadata": {},
     "output_type": "execute_result"
    }
   ],
   "source": [
    "baseline.head()"
   ]
  },
  {
   "cell_type": "code",
   "execution_count": 12,
   "metadata": {},
   "outputs": [
    {
     "data": {
      "text/html": [
       "<div>\n",
       "<style scoped>\n",
       "    .dataframe tbody tr th:only-of-type {\n",
       "        vertical-align: middle;\n",
       "    }\n",
       "\n",
       "    .dataframe tbody tr th {\n",
       "        vertical-align: top;\n",
       "    }\n",
       "\n",
       "    .dataframe thead th {\n",
       "        text-align: right;\n",
       "    }\n",
       "</style>\n",
       "<table border=\"1\" class=\"dataframe\">\n",
       "  <thead>\n",
       "    <tr style=\"text-align: right;\">\n",
       "      <th></th>\n",
       "      <th>X</th>\n",
       "      <th>Y</th>\n",
       "      <th>Z</th>\n",
       "    </tr>\n",
       "  </thead>\n",
       "  <tbody>\n",
       "    <tr>\n",
       "      <th>0</th>\n",
       "      <td>2.417431</td>\n",
       "      <td>2.830757</td>\n",
       "      <td>0.063358</td>\n",
       "    </tr>\n",
       "    <tr>\n",
       "      <th>1</th>\n",
       "      <td>2.483817</td>\n",
       "      <td>2.795074</td>\n",
       "      <td>0.076599</td>\n",
       "    </tr>\n",
       "    <tr>\n",
       "      <th>2</th>\n",
       "      <td>2.378353</td>\n",
       "      <td>2.801189</td>\n",
       "      <td>0.067630</td>\n",
       "    </tr>\n",
       "    <tr>\n",
       "      <th>3</th>\n",
       "      <td>2.463062</td>\n",
       "      <td>2.744679</td>\n",
       "      <td>0.073476</td>\n",
       "    </tr>\n",
       "    <tr>\n",
       "      <th>4</th>\n",
       "      <td>2.419750</td>\n",
       "      <td>2.809452</td>\n",
       "      <td>0.067822</td>\n",
       "    </tr>\n",
       "  </tbody>\n",
       "</table>\n",
       "</div>"
      ],
      "text/plain": [
       "          X         Y         Z\n",
       "0  2.417431  2.830757  0.063358\n",
       "1  2.483817  2.795074  0.076599\n",
       "2  2.378353  2.801189  0.067630\n",
       "3  2.463062  2.744679  0.073476\n",
       "4  2.419750  2.809452  0.067822"
      ]
     },
     "execution_count": 12,
     "metadata": {},
     "output_type": "execute_result"
    }
   ],
   "source": [
    "x.head()"
   ]
  },
  {
   "cell_type": "code",
   "execution_count": 13,
   "metadata": {},
   "outputs": [
    {
     "data": {
      "text/html": [
       "<div>\n",
       "<style scoped>\n",
       "    .dataframe tbody tr th:only-of-type {\n",
       "        vertical-align: middle;\n",
       "    }\n",
       "\n",
       "    .dataframe tbody tr th {\n",
       "        vertical-align: top;\n",
       "    }\n",
       "\n",
       "    .dataframe thead th {\n",
       "        text-align: right;\n",
       "    }\n",
       "</style>\n",
       "<table border=\"1\" class=\"dataframe\">\n",
       "  <thead>\n",
       "    <tr style=\"text-align: right;\">\n",
       "      <th></th>\n",
       "      <th>X</th>\n",
       "      <th>Y</th>\n",
       "      <th>Z</th>\n",
       "    </tr>\n",
       "  </thead>\n",
       "  <tbody>\n",
       "    <tr>\n",
       "      <th>0</th>\n",
       "      <td>2.417431</td>\n",
       "      <td>4.265543</td>\n",
       "      <td>0.089446</td>\n",
       "    </tr>\n",
       "    <tr>\n",
       "      <th>1</th>\n",
       "      <td>2.483817</td>\n",
       "      <td>4.273185</td>\n",
       "      <td>0.115948</td>\n",
       "    </tr>\n",
       "    <tr>\n",
       "      <th>2</th>\n",
       "      <td>2.378353</td>\n",
       "      <td>4.322760</td>\n",
       "      <td>0.099205</td>\n",
       "    </tr>\n",
       "    <tr>\n",
       "      <th>3</th>\n",
       "      <td>2.463062</td>\n",
       "      <td>4.223872</td>\n",
       "      <td>0.108261</td>\n",
       "    </tr>\n",
       "    <tr>\n",
       "      <th>4</th>\n",
       "      <td>2.419750</td>\n",
       "      <td>4.321224</td>\n",
       "      <td>0.100787</td>\n",
       "    </tr>\n",
       "  </tbody>\n",
       "</table>\n",
       "</div>"
      ],
      "text/plain": [
       "          X         Y         Z\n",
       "0  2.417431  4.265543  0.089446\n",
       "1  2.483817  4.273185  0.115948\n",
       "2  2.378353  4.322760  0.099205\n",
       "3  2.463062  4.223872  0.108261\n",
       "4  2.419750  4.321224  0.100787"
      ]
     },
     "execution_count": 13,
     "metadata": {},
     "output_type": "execute_result"
    }
   ],
   "source": [
    "xy.head()"
   ]
  },
  {
   "cell_type": "code",
   "execution_count": 10,
   "metadata": {},
   "outputs": [
    {
     "name": "stdout",
     "output_type": "stream",
     "text": [
      "X                         : perc: 252.16%, diff: 1.73998, test: 2.43001, base: 0.69003\n",
      "Y                         : perc: 236.49%, diff: 1.96259, test: 2.79248, base: 0.82989\n",
      "Z                         : perc: 818.68%, diff: 0.06301, test: 0.07071, base: 0.00770\n",
      "Y\n",
      "Z\n",
      "fdr_control:  fdr_bh\n",
      "ordered_predecssors:  ['X'] (10000, 1)\n",
      "ordered_predecssors:  ['Y'] (10000, 1)\n"
     ]
    },
    {
     "name": "stderr",
     "output_type": "stream",
     "text": [
      "Evaluate set function: 8it [00:00, 4271.19it/s]"
     ]
    },
    {
     "name": "stdout",
     "output_type": "stream",
     "text": [
      "fdr successes:  [0.0, 0.1543799081433136, 0.876319210866746] [ True False False]\n"
     ]
    },
    {
     "name": "stderr",
     "output_type": "stream",
     "text": [
      "\n"
     ]
    },
    {
     "name": "stdout",
     "output_type": "stream",
     "text": [
      "i= 0 {'X': 0.06284026470452803, 'Y': 0.00011319479158826591, 'Z': -2.6810665450341036e-05}\n"
     ]
    },
    {
     "data": {
      "image/png": "[encoded data removed]",
      "text/plain": [
       "<Figure size 720x216 with 1 Axes>"
      ]
     },
     "metadata": {
      "needs_background": "light"
     },
     "output_type": "display_data"
    }
   ],
   "source": [
    "# Mean difference\n",
    "for c in baseline.columns.to_list():\n",
    "    base_mean = baseline[c].mean()\n",
    "    test_mean = x[c].mean()\n",
    "    print(\"{}: perc: {:4.2f}%, diff: {:.5f}, test: {:.5f}, base: {:.5f}\"\n",
    "          .format(c.ljust(26), (test_mean-base_mean)/base_mean*100, \n",
    "                  (test_mean-base_mean), test_mean, base_mean))\n",
    "\n",
    "np.random.seed(100)\n",
    "\n",
    "causal_graph = nx.DiGraph([('X','Y'),('Y','Z')])\n",
    "causal_model = gcm.StructuralCausalModel(causal_graph)\n",
    "\n",
    "for node in causal_graph.nodes:\n",
    "    if len(list(causal_graph.predecessors(node))) > 0:\n",
    "        print(node)\n",
    "        causal_model.set_causal_mechanism(node, gcm.AdditiveNoiseModel(gcm.ml.create_linear_regressor()))\n",
    "    else:\n",
    "        causal_model.set_causal_mechanism(node, gcm.EmpiricalDistribution())\n",
    "\n",
    "for i in range(1):\n",
    "    np.random.seed((i+1)*100)\n",
    "    attribs = gcm.distribution_change(causal_model,\n",
    "                                  baseline, \n",
    "                                  x, \n",
    "                                  'Z',\n",
    "            difference_estimation_func=lambda x, y: (np.mean(y) - np.mean(x))\n",
    "                                 )\n",
    "\n",
    "    print(\"i=\", i, attribs)\n",
    "    bar_plot(attribs)"
   ]
  },
  {
   "cell_type": "code",
   "execution_count": 11,
   "metadata": {},
   "outputs": [
    {
     "name": "stdout",
     "output_type": "stream",
     "text": [
      "X                         : perc: 252.16%, diff: 1.73998, test: 2.43001, base: 0.69003\n",
      "Y                         : perc: 416.12%, diff: 3.45334, test: 4.28323, base: 0.82989\n",
      "Z                         : perc: 1207.91%, diff: 0.09297, test: 0.10067, base: 0.00770\n",
      "Y\n",
      "Z\n",
      "fdr_control:  fdr_bh\n",
      "ordered_predecssors:  ['X'] (10000, 1)\n",
      "ordered_predecssors:  ['Y'] (10000, 1)\n"
     ]
    },
    {
     "name": "stderr",
     "output_type": "stream",
     "text": [
      "Evaluate set function: 8it [00:00, 45466.71it/s]"
     ]
    },
    {
     "name": "stdout",
     "output_type": "stream",
     "text": [
      "fdr successes:  [0.0, 0.1543799081433136, 0.876319210866746] [ True False False]\n"
     ]
    },
    {
     "name": "stderr",
     "output_type": "stream",
     "text": [
      "\n"
     ]
    },
    {
     "name": "stdout",
     "output_type": "stream",
     "text": [
      "i= 0 {'X': 0.06284026470452803, 'Y': 0.00011319479158826591, 'Z': -2.6810665450341036e-05}\n"
     ]
    },
    {
     "data": {
      "image/png": "[encoded data removed]",
      "text/plain": [
       "<Figure size 720x216 with 1 Axes>"
      ]
     },
     "metadata": {
      "needs_background": "light"
     },
     "output_type": "display_data"
    }
   ],
   "source": [
    "# Mean difference\n",
    "for c in baseline.columns.to_list():\n",
    "    base_mean = baseline[c].mean()\n",
    "    test_mean = xy[c].mean()\n",
    "    print(\"{}: perc: {:4.2f}%, diff: {:.5f}, test: {:.5f}, base: {:.5f}\"\n",
    "          .format(c.ljust(26), (test_mean-base_mean)/base_mean*100, \n",
    "                  (test_mean-base_mean), test_mean, base_mean))\n",
    "\n",
    "np.random.seed(100)\n",
    "\n",
    "causal_graph = nx.DiGraph([('X','Y'),('Y','Z')])\n",
    "causal_model = gcm.StructuralCausalModel(causal_graph)\n",
    "\n",
    "for node in causal_graph.nodes:\n",
    "    if len(list(causal_graph.predecessors(node))) > 0:\n",
    "        print(node)\n",
    "        causal_model.set_causal_mechanism(node, gcm.AdditiveNoiseModel(gcm.ml.create_linear_regressor()))\n",
    "    else:\n",
    "        causal_model.set_causal_mechanism(node, gcm.EmpiricalDistribution())\n",
    "\n",
    "for i in range(1):\n",
    "    np.random.seed((i+1)*100)\n",
    "    attribs = gcm.distribution_change(causal_model,\n",
    "                                  baseline, \n",
    "                                  x, \n",
    "                                  'Z',\n",
    "            difference_estimation_func=lambda x, y: (np.mean(y) - np.mean(x))\n",
    "                                 )\n",
    "\n",
    "    print(\"i=\", i, attribs)\n",
    "    bar_plot(attribs)"
   ]
  },
  {
   "cell_type": "code",
   "execution_count": null,
   "metadata": {},
   "outputs": [],
   "source": []
  }
 ],
 "metadata": {
  "kernelspec": {
   "display_name": "Python 3",
   "language": "python",
   "name": "python3"
  },
  "language_info": {
   "codemirror_mode": {
    "name": "ipython",
    "version": 3
   },
   "file_extension": ".py",
   "mimetype": "text/x-python",
   "name": "python",
   "nbconvert_exporter": "python",
   "pygments_lexer": "ipython3",
   "version": "3.8.5"
  }
 },
 "nbformat": 4,
 "nbformat_minor": 4
}
